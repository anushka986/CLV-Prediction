{
 "cells": [
  {
   "cell_type": "code",
   "execution_count": null,
   "id": "2a05838a-4d8d-4e9c-8223-025d4aa758dc",
   "metadata": {},
   "outputs": [],
   "source": []
  }
 ],
 "metadata": {
  "kernelspec": {
   "display_name": "",
   "name": ""
  },
  "language_info": {
   "name": ""
  }
 },
 "nbformat": 4,
 "nbformat_minor": 5
}
